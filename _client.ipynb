{
 "cells": [
  {
   "cell_type": "code",
   "execution_count": 10,
   "metadata": {},
   "outputs": [],
   "source": [
    "import httpx\n",
    "import os\n",
    "import json \n",
    "\n",
    "from typing import Union, Literal"
   ]
  },
  {
   "cell_type": "code",
   "execution_count": 2,
   "metadata": {},
   "outputs": [],
   "source": [
    "class TinyModelError(Exception):\n",
    "    pass"
   ]
  },
  {
   "cell_type": "code",
   "execution_count": 16,
   "metadata": {},
   "outputs": [],
   "source": [
    "class TinyModel:\n",
    "    class Completions:\n",
    "        def __init__(self, api_key, base_url):\n",
    "            self.api_key = api_key\n",
    "            self.base_url = base_url\n",
    "            \n",
    "        def request_completion(self, base_url, api_key, model, prompt, max_tokens, temperature):\n",
    "            # Prepare the request payload\n",
    "            payload = {\n",
    "                \"api_key\": api_key,\n",
    "                \"model\": model,\n",
    "                \"prompt\": prompt,\n",
    "                \"max_tokens\": max_tokens,\n",
    "                \"temperature\": temperature\n",
    "            }\n",
    "\n",
    "            # Send the request\n",
    "            endpoint = f\"{base_url}/completion\"\n",
    "            #response = httpx.post(endpoint, json=payload)\n",
    "            \n",
    "            response = {\n",
    "                \"id\": \"123123123\",\n",
    "                \"content\": f\"Dummy response from endpoint {endpoint} for model {model} with prompt {prompt}\",\n",
    "                \"created\": 1701040299,\n",
    "                \"model\": model,\n",
    "                \"system_fingerprint\": \"\", \n",
    "                \"status\": \"success\",\n",
    "                \"system_message\": \"\",\n",
    "                \"prompt_tokens\": 0,\n",
    "                \"completion_tokens\": 0,\n",
    "                \"total_tokens\": 0\n",
    "            }\n",
    "            \n",
    "            return response\n",
    "\n",
    "        def create(self, model, prompt, max_tokens=512, temperature=0.8):\n",
    "            \n",
    "            if model not in [\"philosophy\", \"literature\"]:\n",
    "                raise TinyModelError(\"Model must be 'philosophy' or 'literature'\")\n",
    "            \n",
    "            # Enforce max_tokens limit\n",
    "            if max_tokens > 512:\n",
    "                raise TinyModelError(\"max_tokens cannot exceed 512\")\n",
    "            if max_tokens <= 0:\n",
    "                max_tokens = 512\n",
    "\n",
    "            # Logic to handle the completion request\n",
    "            # For example, making an HTTP request to the API\n",
    "            response = self.request_completion(self.base_url, self.api_key, model, prompt, max_tokens, temperature)\n",
    "            \n",
    "            return response\n",
    "\n",
    "    def __init__(self, api_key):\n",
    "        if api_key is None:\n",
    "            api_key = os.environ.get(\"TINYMODEL_API_KEY\")\n",
    "        if api_key is None:\n",
    "            raise TinyModelError(\n",
    "                \"The api_key client option must be set either by passing api_key to the client or by setting the TINYMODEL_API_KEY environment variable\"\n",
    "            )\n",
    "        \n",
    "        self.api_key = api_key\n",
    "        self.base_url = \"https://etrack.ws/scriptai.svc/v1\"\n",
    "        \n",
    "        self.completions = TinyModel.Completions(self.api_key, self.base_url)"
   ]
  },
  {
   "cell_type": "code",
   "execution_count": 17,
   "metadata": {},
   "outputs": [
    {
     "name": "stdout",
     "output_type": "stream",
     "text": [
      "{\"id\": \"123123123\", \"content\": \"Dummy response from endpoint https://etrack.ws/scriptai.svc/v1/completion for model philosophy with prompt some prompt here\", \"created\": 1701040299, \"model\": \"philosophy\", \"system_fingerprint\": \"\", \"status\": \"success\", \"system_message\": \"\", \"prompt_tokens\": 0, \"completion_tokens\": 0, \"total_tokens\": 0}\n"
     ]
    }
   ],
   "source": [
    "# Example usage\n",
    "_prompt = \"some prompt here\"\n",
    "\n",
    "try:\n",
    "    client = TinyModel(\"your_api_key_here\")\n",
    "    response = client.completions.create(\n",
    "        model=\"philosophy\",\n",
    "        prompt=_prompt,\n",
    "        max_tokens=50, #max. 512\n",
    "        temperature=0\n",
    "    )\n",
    "    response = json.dumps(response)\n",
    "    print(response)\n",
    "except TinyModelError as e:\n",
    "    print(e)"
   ]
  },
  {
   "cell_type": "code",
   "execution_count": null,
   "metadata": {},
   "outputs": [],
   "source": []
  }
 ],
 "metadata": {
  "kernelspec": {
   "display_name": "Python 3",
   "language": "python",
   "name": "python3"
  },
  "language_info": {
   "codemirror_mode": {
    "name": "ipython",
    "version": 3
   },
   "file_extension": ".py",
   "mimetype": "text/x-python",
   "name": "python",
   "nbconvert_exporter": "python",
   "pygments_lexer": "ipython3",
   "version": "3.11.6"
  }
 },
 "nbformat": 4,
 "nbformat_minor": 2
}
